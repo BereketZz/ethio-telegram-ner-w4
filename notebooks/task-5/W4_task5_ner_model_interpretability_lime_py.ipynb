{
  "nbformat": 4,
  "nbformat_minor": 0,
  "metadata": {
    "colab": {
      "provenance": []
    },
    "kernelspec": {
      "name": "python3",
      "display_name": "Python 3"
    },
    "language_info": {
      "name": "python"
    }
  },
  "cells": [
    {
      "cell_type": "code",
      "execution_count": null,
      "metadata": {
        "id": "wCJyQrNGF_9t"
      },
      "outputs": [],
      "source": [
        "#  Task 5: NER Model Interpretability using LIME (in 1 cell)\n",
        "import torch\n",
        "from lime.lime_text import LimeTextExplainer\n",
        "\n",
        "# Sample label list (modify to match your model's)\n",
        "label_list = [\"O\", \"B-PER\", \"I-PER\", \"B-LOC\", \"I-LOC\", \"B-ORG\", \"I-ORG\"]\n",
        "\n",
        "# Define a prediction function compatible with LIME\n",
        "def ner_predict(texts):\n",
        "    inputs = tokenizer(texts, return_tensors=\"pt\", padding=True, truncation=True, max_length=128).to(model.device)\n",
        "    with torch.no_grad():\n",
        "        outputs = model(**inputs).logits\n",
        "    preds = torch.argmax(outputs, dim=-1)\n",
        "    results = []\n",
        "    for pred in preds:\n",
        "        token_labels = [label_list[p] for p in pred]\n",
        "        results.append(token_labels)\n",
        "    return results\n",
        "\n",
        "# Sample Amharic sentence with entities\n",
        "text = \"አቶ መንግስቱ በአዲስ አበባ ውስጥ ተገኘ።\"\n",
        "\n",
        "# Run LIME to explain predictions\n",
        "explainer = LimeTextExplainer(class_names=label_list)\n",
        "explanation = explainer.explain_instance(text, ner_predict, num_features=8)\n",
        "explanation.show_in_notebook(text=text)\n"
      ]
    }
  ]
}